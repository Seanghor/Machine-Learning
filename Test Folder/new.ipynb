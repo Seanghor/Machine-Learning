{
  "nbformat": 4,
  "nbformat_minor": 0,
  "metadata": {
    "colab": {
      "name": "new.ipynb",
      "provenance": [],
      "authorship_tag": "ABX9TyOvFuV/Bqr2okP/Ysg3pMgo",
      "include_colab_link": true
    },
    "kernelspec": {
      "name": "python3",
      "display_name": "Python 3"
    },
    "language_info": {
      "name": "python"
    }
  },
  "cells": [
    {
      "cell_type": "markdown",
      "metadata": {
        "id": "view-in-github",
        "colab_type": "text"
      },
      "source": [
        "<a href=\"https://colab.research.google.com/github/Seanghor/Machine-Learning/blob/main/Test%20Folder/new.ipynb\" target=\"_parent\"><img src=\"https://colab.research.google.com/assets/colab-badge.svg\" alt=\"Open In Colab\"/></a>"
      ]
    },
    {
      "cell_type": "code",
      "execution_count": 1,
      "metadata": {
        "id": "dWHjwoU-XfFo",
        "colab": {
          "base_uri": "https://localhost:8080/"
        },
        "outputId": "f3df83d3-bac5-4e15-c7d8-20d09f50a1ad"
      },
      "outputs": [
        {
          "output_type": "stream",
          "name": "stdout",
          "text": [
            "Hello Seanghor\n"
          ]
        }
      ],
      "source": [
        "print('Hello Seanghor')"
      ]
    }
  ]
}