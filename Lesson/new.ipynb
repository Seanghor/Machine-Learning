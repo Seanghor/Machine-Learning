{
  "nbformat": 4,
  "nbformat_minor": 0,
  "metadata": {
    "colab": {
      "name": "new.ipynb",
      "provenance": [],
      "collapsed_sections": [],
      "authorship_tag": "ABX9TyOkAU8EyONXpw1KmeKCL7fh",
      "include_colab_link": true
    },
    "kernelspec": {
      "name": "python3",
      "display_name": "Python 3"
    },
    "language_info": {
      "name": "python"
    }
  },
  "cells": [
    {
      "cell_type": "markdown",
      "metadata": {
        "id": "view-in-github",
        "colab_type": "text"
      },
      "source": [
        "<a href=\"https://colab.research.google.com/github/Seanghor/Machine-Learning/blob/main/Lesson/new.ipynb\" target=\"_parent\"><img src=\"https://colab.research.google.com/assets/colab-badge.svg\" alt=\"Open In Colab\"/></a>"
      ]
    },
    {
      "cell_type": "code",
      "execution_count": 1,
      "metadata": {
        "id": "dWHjwoU-XfFo",
        "colab": {
          "base_uri": "https://localhost:8080/"
        },
        "outputId": "8bea0359-0349-48e3-b353-5e072ed41fc4"
      },
      "outputs": [
        {
          "output_type": "stream",
          "name": "stdout",
          "text": [
            "Hello Seanghor\n",
            "Hello Kimsour\n",
            "Hello Leapheng\n"
          ]
        }
      ],
      "source": [
        "print('Hello Seanghor')\n",
        "print('Hello Kimsour')\n",
        "print('Hello Leapheng')"
      ]
    }
  ]
}